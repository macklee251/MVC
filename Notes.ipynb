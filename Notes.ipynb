{
 "cells": [
  {
   "cell_type": "markdown",
   "metadata": {},
   "source": [
    "Padrão MVC (Model, View, Controler) é um padrão de arquitetura de software que dividi a aplicação em três camadas. Nele o model é responsável pela manipulação de dados, o view é responsável pela interação com o usuário e o controler que concentra a nossa lógica de negócio."
   ]
  },
  {
   "cell_type": "code",
   "execution_count": null,
   "metadata": {},
   "outputs": [],
   "source": []
  }
 ],
 "metadata": {
  "language_info": {
   "name": "python"
  }
 },
 "nbformat": 4,
 "nbformat_minor": 2
}
